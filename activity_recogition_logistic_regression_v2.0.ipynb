{
 "cells": [
  {
   "cell_type": "code",
   "execution_count": 1,
   "metadata": {},
   "outputs": [],
   "source": [
    "#jk\n",
    "\n",
    "import pandas as pd\n",
    "import numpy as np\n",
    "import os\n",
    "import glob\n",
    "from tqdm.notebook import tqdm_notebook\n",
    "\n",
    "import logging as lg\n",
    "\n",
    "from pandas_profiling import ProfileReport\n",
    "from sklearn.preprocessing import StandardScaler, OrdinalEncoder\n",
    "from sklearn.linear_model import LogisticRegression\n",
    "from sklearn.model_selection import train_test_split, GridSearchCV\n",
    "from statsmodels.stats.outliers_influence import variance_inflation_factor\n",
    "from sklearn.metrics import accuracy_score,precision_score, recall_score,  confusion_matrix, roc_curve, roc_auc_score, classification_report\n",
    "\n",
    "import matplotlib.pyplot as plt\n",
    "import seaborn as sns\n",
    "import pickle\n",
    "\n",
    "sns.set(rc={'figure.figsize':(20,7)})\n",
    "\n",
    "\n",
    "\n",
    "class LogisticRegActivityRecognition:\n",
    "    \n",
    "    def __init__(self, dir_path):\n",
    "        self.dir_path = dir_path\n",
    "        \n",
    "    def create_logger(self):\n",
    "        try:\n",
    "            lg.basicConfig(filename='activity_recogition_logistic_logger.log', level = lg.INFO ,format='%(asctime)s - %(levelname)s - %(message)s')\n",
    "        except Exception as e:\n",
    "            print(e)\n",
    "        \n",
    "    def create_sub_dir_list(self):\n",
    "        try:\n",
    "            for root, dirs, files in os.walk(self.dir_path):\n",
    "                subdir_path_list = [os.path.join(root, name) for name in dirs]\n",
    "                lg.info('creating sub directory list')\n",
    "                return subdir_path_list\n",
    "        except Exception as e:\n",
    "            lg.exception(str(e))\n",
    "        \n",
    "    def load_data(self, subdir_path_list):\n",
    "        try:\n",
    "            main_df = []\n",
    "\n",
    "            for subdir_path in tqdm_notebook(subdir_path_list):\n",
    "                dir_name = subdir_path.split('\\\\')[-1]\n",
    "                sub_df = []\n",
    "\n",
    "                for file in glob.glob(os.path.join(subdir_path, '*')):\n",
    "                    tmp_df = pd.read_csv(file, skiprows=4, error_bad_lines=False)\n",
    "                    sub_df.append(tmp_df)\n",
    "\n",
    "                tmp_df_concat = pd.concat(sub_df)\n",
    "                tmp_df_concat['label'] = dir_name\n",
    "                lg.info('{} - loading data....'.format(dir_name))\n",
    "\n",
    "                # missing value imputation\n",
    "                if tmp_df_concat.isnull().any().any():\n",
    "                    for col in tmp_df_concat.columns:\n",
    "                        if tmp_df_concat[col].isnull().values.any():\n",
    "                            tmp_df_concat[col].fillna(tmp_df_concat[col].mean(), inplace=True)\n",
    "                main_df.append(tmp_df_concat)\n",
    "                \n",
    "            combined_df = pd.concat(main_df)\n",
    "            combined_df.reset_index(inplace=True, drop=True)\n",
    "            lg.info('Combined  data')\n",
    "            return combined_df\n",
    "        \n",
    "        except Exception as e:\n",
    "            lg.exception(str(e))\n",
    "        \n",
    "    \n",
    "    def drop_column(self, df, column_name):\n",
    "        df.drop(column_name, axis=1, inplace=True)\n",
    "        lg.info('dropped {} column'.format(column_name))\n",
    "        return df\n",
    "    \n",
    "    def create_profile_report(self, df, file_name):\n",
    "        try:\n",
    "            profile_report_obj = ProfileReport(df)\n",
    "            profile_report_obj.to_file(file_name)\n",
    "        except Exception as e:\n",
    "            lg.exception(str(e))\n",
    "        else:\n",
    "            lg.info('profile report created successfully for {} !!!'.format(file_name))\n",
    "            \n",
    "    def remove_ouliers_percentile(self, df):\n",
    "        try:\n",
    "            df_new = df.copy()\n",
    "\n",
    "            q = df_new['avg_rss12'].quantile(.02)\n",
    "            df_new = df_new[df_new['avg_rss12'] > q]\n",
    "\n",
    "            q = df_new['var_rss12'].quantile(.97)\n",
    "            df_new = df_new[df_new['var_rss12'] < q]\n",
    "\n",
    "            q = df_new['avg_rss13'].quantile(.98)\n",
    "            df_new = df_new[df_new['avg_rss13'] < q]\n",
    "\n",
    "            q = df_new['var_rss13'].quantile(.98)\n",
    "            df_new = df_new[df_new['var_rss13'] < q]\n",
    "\n",
    "            q = df_new['avg_rss23'].quantile(.98)\n",
    "            df_new = df_new[df_new['avg_rss23'] < q]\n",
    "\n",
    "            q = df_new['var_rss23'].quantile(.99)\n",
    "            df_new = df_new[df_new['var_rss23'] < q]\n",
    "            df_new.reset_index(inplace=True, drop=True)\n",
    "            \n",
    "            lg.info('removed ouliers values using percentile method!!!')\n",
    "            return df_new\n",
    "        \n",
    "        except Exception as e:\n",
    "            lg.exception(str(e))\n",
    "    \n",
    "    def plot_correlation_heatmap(self, df):\n",
    "        try:\n",
    "            lg.info('plotting correlation heatmap!!!')\n",
    "            sns.heatmap(df.corr(), annot=True, vmin=-1, vmax=1)\n",
    "        except Exception as e:\n",
    "            lg.exception(str(e))\n",
    "        \n",
    "    def apply_OrdinalEncoder(self, df, column_name):\n",
    "        try:\n",
    "            ord_enc = OrdinalEncoder()\n",
    "            df[column_name] = ord_enc.fit_transform(df[[column_name]])\n",
    "            lg.info('applying OrdinalEncoder!!!')\n",
    "            return df\n",
    "        except Exception as e:\n",
    "            lg.exception(str(e))\n",
    "    \n",
    "    def split_feature_target(self, df, target_column):\n",
    "        try:\n",
    "            X = df.drop(columns=[target_column])\n",
    "            y = df[target_column]\n",
    "            lg.info('splitting feature and target!')\n",
    "            return X, y\n",
    "        except Exception as e:\n",
    "            lg.exception(str(e))\n",
    "        \n",
    "    def scaling_standard_scaler(self, feature):\n",
    "        try:\n",
    "            scalar = StandardScaler()\n",
    "            X_scaled = scalar.fit_transform(feature)\n",
    "            X_scaled_df = pd.DataFrame(X_scaled, columns= feature.columns)\n",
    "            lg.info('Applying standard scaler!!!')\n",
    "            return X_scaled, X_scaled_df\n",
    "        except Exception as e:\n",
    "            lg.exception(str(e))\n",
    "            \n",
    "    \n",
    "    def find_multicollinearity_vif_score(self, features, features_scaled):\n",
    "        try:\n",
    "            vif_df = pd.DataFrame([[features.columns[i], variance_inflation_factor(features_scaled,i)] for i in range(features_scaled.shape[1])], columns=[\"FEATURE\", \"VIF_SCORE\"])\n",
    "            lg.info('calculated VIF score!!!')\n",
    "            if len(vif_df[vif_df['VIF_SCORE'] > 10]['FEATURE']) > 0:\n",
    "                lg.info('columns which has VIF score > 10')\n",
    "                lg.info(vif_df[vif_df['VIF_SCORE'] > 10]['FEATURE'])\n",
    "            else:\n",
    "                lg.info(' \"NO\" columns which has VIF score > 10')\n",
    "        except Exception as e:\n",
    "            lg.exception(str(e))\n",
    "    \n",
    "    def spliting_train_test(self, X, y):\n",
    "        try:\n",
    "            x_train, x_test, y_train, y_test = train_test_split(X, y, test_size=0.2, random_state=7)\n",
    "            lg.info('spliting train test')\n",
    "            return x_train, x_test, y_train, y_test\n",
    "        except Exception as e:\n",
    "            lg.exception(str(e))\n",
    "            \n",
    "    def find_mean_test_score_gridSearch(self, x_train, y_train):\n",
    "        try:\n",
    "            solver_list = ['liblinear', 'newton-cg', 'lbfgs', 'sag', 'saga']\n",
    "            parameters = dict(solver=solver_list)\n",
    "            lr = LogisticRegression(random_state=7, multi_class=\"auto\", n_jobs=-1, C=1)\n",
    "            clf = GridSearchCV(lr, parameters, cv=5)\n",
    "            clf.fit(x_train, y_train)\n",
    "            scores = clf.cv_results_['mean_test_score']\n",
    "            eval_df = pd.DataFrame(solver_list,columns=['solver'])\n",
    "            eval_df['grid_search_train_score'] = scores\n",
    "            lg.info('finding mean_test_score using gridSearch!!!')\n",
    "            return eval_df\n",
    "        except Excepton as e:\n",
    "            lg.exception(str(e))\n",
    "    \n",
    "    def find_roc_accuracy_precision(self, x_train, x_test, y_train, y_test, eval_df):\n",
    "        try:\n",
    "            roc_list = []\n",
    "            solvers = ['liblinear','newton-cg', 'sag', 'saga', 'lbfgs']\n",
    "\n",
    "            for sol in solvers: \n",
    "                logreg = LogisticRegression(random_state=7, multi_class=\"auto\", n_jobs=-1, C=1, solver=sol)\n",
    "                logreg.fit(x_train, y_train)\n",
    "                y_pred = logreg.predict(x_test)\n",
    "                auc = roc_auc_score(y_test, logreg.predict_proba(x_test), multi_class='ovr')\n",
    "                score_test_data = logreg.score(x_test, y_test)\n",
    "                accuracy = accuracy_score(y_test, y_pred)\n",
    "                precision = precision_score(y_test, y_pred, average='weighted')\n",
    "                recall = recall_score(y_test, y_pred, average='weighted')\n",
    "                roc_list.append([score_test_data, auc,accuracy,precision,recall])\n",
    "            eval_df[['score_test_data','roc_auc_score', 'accuracy','precision','recall']] = roc_list\n",
    "            lg.info('finding test score, rocauc score,accuracy,precision, recall...!!!')\n",
    "            return eval_df\n",
    "        except Exception as e:\n",
    "            lg.exception(str(e))\n",
    "    \n",
    "    def create_and_save_model(self, file_name):\n",
    "        try:\n",
    "            final_model = LogisticRegression(random_state=7, multi_class=\"auto\", n_jobs=-1, C=1, solver='saga')\n",
    "            #save the model\n",
    "            pickle.dump(final_model,open(file_name,'wb'))\n",
    "            lg.info('create the model for and_save the model')\n",
    "            return final_model\n",
    "        except Exception as e:\n",
    "            lg.exception(str(e))\n",
    "           \n",
    "    def prediction_plot_report_generation(self, x_train, x_test, y_train, y_test, model_file_name):\n",
    "        try:\n",
    "            model = pickle.load(open(model_file_name, 'rb'))\n",
    "            model.fit(x_train, y_train)\n",
    "            y_pred = model.predict(x_test)\n",
    "            lg.info('prediction for X_test...')\n",
    "            cm = confusion_matrix(y_test,y_pred)\n",
    "            lg.info('creating confusion matrix...')\n",
    "            print('*****************confusion matrix **************************************')\n",
    "            print(cm)\n",
    "            #visualizing confusion matrix\n",
    "            plt.figure(figsize = (20,11))\n",
    "            sns.heatmap(cm, annot=True, fmt=\"d\")\n",
    "            plt.xlabel('Predicted')\n",
    "            plt.ylabel('Truth')\n",
    "            lg.info('creating heatmap for confusion matrix...')\n",
    "            #classification report\n",
    "            #target wise precision  recall  f1-score\n",
    "            print('*****************classification_report *********************************')\n",
    "            print(classification_report(y_test,y_pred))\n",
    "            lg.info('creating classification_report...')\n",
    "        except Exception as e:\n",
    "            lg.exception(str(e))\n"
   ]
  },
  {
   "cell_type": "code",
   "execution_count": 2,
   "metadata": {},
   "outputs": [
    {
     "data": {
      "application/vnd.jupyter.widget-view+json": {
       "model_id": "47d8e242755d446397697ace34e3f3e4",
       "version_major": 2,
       "version_minor": 0
      },
      "text/plain": [
       "  0%|          | 0/7 [00:00<?, ?it/s]"
      ]
     },
     "metadata": {},
     "output_type": "display_data"
    },
    {
     "name": "stderr",
     "output_type": "stream",
     "text": [
      "C:\\Users\\jagan\\AppData\\Local\\Temp/ipykernel_17460/807758131.py:4: FutureWarning: The error_bad_lines argument has been deprecated and will be removed in a future version.\n",
      "\n",
      "\n",
      "  combined_df = LogisticReg.load_data(subdir_path_list)\n",
      "b'Skipping line 485: expected 7 fields, saw 8\\n'\n",
      "b'Skipping line 485: expected 7 fields, saw 8\\n'\n"
     ]
    },
    {
     "name": "stdout",
     "output_type": "stream",
     "text": [
      "shape (42237, 8)\n"
     ]
    }
   ],
   "source": [
    "LogisticReg = LogisticRegActivityRecognition('R:/ML_New/FullStackDS/projects/ML/chl_activity_recognition_logistic_reg/data')\n",
    "LogisticReg.create_logger()\n",
    "subdir_path_list = LogisticReg.create_sub_dir_list()\n",
    "combined_df = LogisticReg.load_data(subdir_path_list)\n",
    "print('shape',combined_df.shape)"
   ]
  },
  {
   "cell_type": "code",
   "execution_count": 3,
   "metadata": {},
   "outputs": [
    {
     "data": {
      "application/vnd.jupyter.widget-view+json": {
       "model_id": "19eba876ff4b4025bf0f4cad558a4759",
       "version_major": 2,
       "version_minor": 0
      },
      "text/plain": [
       "Summarize dataset:   0%|          | 0/20 [00:00<?, ?it/s]"
      ]
     },
     "metadata": {},
     "output_type": "display_data"
    },
    {
     "data": {
      "application/vnd.jupyter.widget-view+json": {
       "model_id": "aa62b0e97d38425c80f73853d459ebeb",
       "version_major": 2,
       "version_minor": 0
      },
      "text/plain": [
       "Generate report structure:   0%|          | 0/1 [00:00<?, ?it/s]"
      ]
     },
     "metadata": {},
     "output_type": "display_data"
    },
    {
     "data": {
      "application/vnd.jupyter.widget-view+json": {
       "model_id": "5345d4c47e1b447d83c00dff39469ce8",
       "version_major": 2,
       "version_minor": 0
      },
      "text/plain": [
       "Render HTML:   0%|          | 0/1 [00:00<?, ?it/s]"
      ]
     },
     "metadata": {},
     "output_type": "display_data"
    },
    {
     "data": {
      "application/vnd.jupyter.widget-view+json": {
       "model_id": "b37068f8348a428683dbe184668635f7",
       "version_major": 2,
       "version_minor": 0
      },
      "text/plain": [
       "Export report to file:   0%|          | 0/1 [00:00<?, ?it/s]"
      ]
     },
     "metadata": {},
     "output_type": "display_data"
    }
   ],
   "source": [
    "combined_df = LogisticReg.drop_column(combined_df, '# Columns: time')\n",
    "LogisticReg.create_profile_report(combined_df, file_name='activity_recogition_logistic_regression.html')"
   ]
  },
  {
   "cell_type": "code",
   "execution_count": 4,
   "metadata": {},
   "outputs": [
    {
     "data": {
      "image/png": "[encoded data removed]",
      "text/plain": [
       "<Figure size 1440x504 with 2 Axes>"
      ]
     },
     "metadata": {},
     "output_type": "display_data"
    }
   ],
   "source": [
    "combined_df = LogisticReg.remove_ouliers_percentile(combined_df)\n",
    "LogisticReg.plot_correlation_heatmap(combined_df)"
   ]
  },
  {
   "cell_type": "code",
   "execution_count": 5,
   "metadata": {},
   "outputs": [],
   "source": [
    "combined_df = LogisticReg.apply_OrdinalEncoder(combined_df, column_name='label')\n",
    "X, y = LogisticReg.split_feature_target(combined_df, target_column='label')"
   ]
  },
  {
   "cell_type": "code",
   "execution_count": 6,
   "metadata": {},
   "outputs": [
    {
     "data": {
      "application/vnd.jupyter.widget-view+json": {
       "model_id": "17918d7cccae4714a1ea4a01cab4a229",
       "version_major": 2,
       "version_minor": 0
      },
      "text/plain": [
       "Summarize dataset:   0%|          | 0/19 [00:00<?, ?it/s]"
      ]
     },
     "metadata": {},
     "output_type": "display_data"
    },
    {
     "data": {
      "application/vnd.jupyter.widget-view+json": {
       "model_id": "f861b991f0ee4062b586a8fcfd5104e9",
       "version_major": 2,
       "version_minor": 0
      },
      "text/plain": [
       "Generate report structure:   0%|          | 0/1 [00:00<?, ?it/s]"
      ]
     },
     "metadata": {},
     "output_type": "display_data"
    },
    {
     "data": {
      "application/vnd.jupyter.widget-view+json": {
       "model_id": "1d09d995b82c4f04923f1fad00c572a2",
       "version_major": 2,
       "version_minor": 0
      },
      "text/plain": [
       "Render HTML:   0%|          | 0/1 [00:00<?, ?it/s]"
      ]
     },
     "metadata": {},
     "output_type": "display_data"
    },
    {
     "data": {
      "application/vnd.jupyter.widget-view+json": {
       "model_id": "aa764637f58943909f8e383dbaef4a97",
       "version_major": 2,
       "version_minor": 0
      },
      "text/plain": [
       "Export report to file:   0%|          | 0/1 [00:00<?, ?it/s]"
      ]
     },
     "metadata": {},
     "output_type": "display_data"
    }
   ],
   "source": [
    "X_scaled, X_scaled_df = LogisticReg.scaling_standard_scaler(X)\n",
    "LogisticReg.create_profile_report(X_scaled_df, file_name='activity_recogition_after_scaled.html')"
   ]
  },
  {
   "cell_type": "code",
   "execution_count": 7,
   "metadata": {},
   "outputs": [],
   "source": [
    "vif_df = LogisticReg.find_multicollinearity_vif_score(X_scaled_df, X_scaled)\n",
    "x_train, x_test, y_train, y_test = LogisticReg.spliting_train_test(X_scaled, y)"
   ]
  },
  {
   "cell_type": "code",
   "execution_count": 8,
   "metadata": {},
   "outputs": [
    {
     "name": "stderr",
     "output_type": "stream",
     "text": [
      "C:\\Users\\jagan\\anaconda3\\lib\\site-packages\\sklearn\\linear_model\\_logistic.py:1355: UserWarning: 'n_jobs' > 1 does not have any effect when 'solver' is set to 'liblinear'. Got 'n_jobs' = 4.\n",
      "  warnings.warn(\"'n_jobs' > 1 does not have any effect when\"\n",
      "C:\\Users\\jagan\\anaconda3\\lib\\site-packages\\sklearn\\linear_model\\_logistic.py:1355: UserWarning: 'n_jobs' > 1 does not have any effect when 'solver' is set to 'liblinear'. Got 'n_jobs' = 4.\n",
      "  warnings.warn(\"'n_jobs' > 1 does not have any effect when\"\n",
      "C:\\Users\\jagan\\anaconda3\\lib\\site-packages\\sklearn\\linear_model\\_logistic.py:1355: UserWarning: 'n_jobs' > 1 does not have any effect when 'solver' is set to 'liblinear'. Got 'n_jobs' = 4.\n",
      "  warnings.warn(\"'n_jobs' > 1 does not have any effect when\"\n",
      "C:\\Users\\jagan\\anaconda3\\lib\\site-packages\\sklearn\\linear_model\\_logistic.py:1355: UserWarning: 'n_jobs' > 1 does not have any effect when 'solver' is set to 'liblinear'. Got 'n_jobs' = 4.\n",
      "  warnings.warn(\"'n_jobs' > 1 does not have any effect when\"\n",
      "C:\\Users\\jagan\\anaconda3\\lib\\site-packages\\sklearn\\linear_model\\_logistic.py:1355: UserWarning: 'n_jobs' > 1 does not have any effect when 'solver' is set to 'liblinear'. Got 'n_jobs' = 4.\n",
      "  warnings.warn(\"'n_jobs' > 1 does not have any effect when\"\n"
     ]
    }
   ],
   "source": [
    "eval_df = LogisticReg.find_mean_test_score_gridSearch(x_train, y_train)"
   ]
  },
  {
   "cell_type": "code",
   "execution_count": 9,
   "metadata": {},
   "outputs": [
    {
     "name": "stderr",
     "output_type": "stream",
     "text": [
      "C:\\Users\\jagan\\anaconda3\\lib\\site-packages\\sklearn\\linear_model\\_logistic.py:1355: UserWarning: 'n_jobs' > 1 does not have any effect when 'solver' is set to 'liblinear'. Got 'n_jobs' = 4.\n",
      "  warnings.warn(\"'n_jobs' > 1 does not have any effect when\"\n"
     ]
    },
    {
     "data": {
      "text/html": [
       "<div>\n",
       "<style scoped>\n",
       "    .dataframe tbody tr th:only-of-type {\n",
       "        vertical-align: middle;\n",
       "    }\n",
       "\n",
       "    .dataframe tbody tr th {\n",
       "        vertical-align: top;\n",
       "    }\n",
       "\n",
       "    .dataframe thead th {\n",
       "        text-align: right;\n",
       "    }\n",
       "</style>\n",
       "<table border=\"1\" class=\"dataframe\">\n",
       "  <thead>\n",
       "    <tr style=\"text-align: right;\">\n",
       "      <th></th>\n",
       "      <th>solver</th>\n",
       "      <th>grid_search_train_score</th>\n",
       "      <th>score_test_data</th>\n",
       "      <th>roc_auc_score</th>\n",
       "      <th>accuracy</th>\n",
       "      <th>precision</th>\n",
       "      <th>recall</th>\n",
       "    </tr>\n",
       "  </thead>\n",
       "  <tbody>\n",
       "    <tr>\n",
       "      <th>0</th>\n",
       "      <td>liblinear</td>\n",
       "      <td>0.634731</td>\n",
       "      <td>0.640259</td>\n",
       "      <td>0.921689</td>\n",
       "      <td>0.640259</td>\n",
       "      <td>0.630342</td>\n",
       "      <td>0.640259</td>\n",
       "    </tr>\n",
       "    <tr>\n",
       "      <th>1</th>\n",
       "      <td>newton-cg</td>\n",
       "      <td>0.654472</td>\n",
       "      <td>0.656562</td>\n",
       "      <td>0.929530</td>\n",
       "      <td>0.656562</td>\n",
       "      <td>0.654576</td>\n",
       "      <td>0.656562</td>\n",
       "    </tr>\n",
       "    <tr>\n",
       "      <th>2</th>\n",
       "      <td>lbfgs</td>\n",
       "      <td>0.654472</td>\n",
       "      <td>0.656427</td>\n",
       "      <td>0.929529</td>\n",
       "      <td>0.656427</td>\n",
       "      <td>0.654411</td>\n",
       "      <td>0.656427</td>\n",
       "    </tr>\n",
       "    <tr>\n",
       "      <th>3</th>\n",
       "      <td>sag</td>\n",
       "      <td>0.654472</td>\n",
       "      <td>0.656427</td>\n",
       "      <td>0.929530</td>\n",
       "      <td>0.656427</td>\n",
       "      <td>0.654451</td>\n",
       "      <td>0.656427</td>\n",
       "    </tr>\n",
       "    <tr>\n",
       "      <th>4</th>\n",
       "      <td>saga</td>\n",
       "      <td>0.654472</td>\n",
       "      <td>0.656696</td>\n",
       "      <td>0.929530</td>\n",
       "      <td>0.656696</td>\n",
       "      <td>0.654697</td>\n",
       "      <td>0.656696</td>\n",
       "    </tr>\n",
       "  </tbody>\n",
       "</table>\n",
       "</div>"
      ],
      "text/plain": [
       "      solver  grid_search_train_score  score_test_data  roc_auc_score  \\\n",
       "0  liblinear                 0.634731         0.640259       0.921689   \n",
       "1  newton-cg                 0.654472         0.656562       0.929530   \n",
       "2      lbfgs                 0.654472         0.656427       0.929529   \n",
       "3        sag                 0.654472         0.656427       0.929530   \n",
       "4       saga                 0.654472         0.656696       0.929530   \n",
       "\n",
       "   accuracy  precision    recall  \n",
       "0  0.640259   0.630342  0.640259  \n",
       "1  0.656562   0.654576  0.656562  \n",
       "2  0.656427   0.654411  0.656427  \n",
       "3  0.656427   0.654451  0.656427  \n",
       "4  0.656696   0.654697  0.656696  "
      ]
     },
     "execution_count": 9,
     "metadata": {},
     "output_type": "execute_result"
    }
   ],
   "source": [
    "eval_df = LogisticReg.find_roc_accuracy_precision(x_train, x_test, y_train, y_test, eval_df)\n",
    "eval_df\n",
    "#saga performs well compared with other solvers..so, creating final model using saga solver"
   ]
  },
  {
   "cell_type": "code",
   "execution_count": 10,
   "metadata": {},
   "outputs": [],
   "source": [
    "final_model = LogisticReg.create_and_save_model(file_name = 'activity_recognition_logistic_reg.sav')"
   ]
  },
  {
   "cell_type": "code",
   "execution_count": 11,
   "metadata": {},
   "outputs": [
    {
     "name": "stdout",
     "output_type": "stream",
     "text": [
      "*****************confusion matrix **************************************\n",
      "[[ 279    1   14    0   89    2    0]\n",
      " [  21  284   17   43   42    0    4]\n",
      " [   3    8  780    0   63   18  331]\n",
      " [   0   45    1 1256   30  121    4]\n",
      " [  57   78   43  198  705  303    4]\n",
      " [   1    0   30  131  414  896    3]\n",
      " [   1    7  404    0   18    1  672]]\n",
      "*****************classification_report *********************************\n",
      "              precision    recall  f1-score   support\n",
      "\n",
      "         0.0       0.77      0.72      0.75       385\n",
      "         1.0       0.67      0.69      0.68       411\n",
      "         2.0       0.61      0.65      0.63      1203\n",
      "         3.0       0.77      0.86      0.81      1457\n",
      "         4.0       0.52      0.51      0.51      1388\n",
      "         5.0       0.67      0.61      0.64      1475\n",
      "         6.0       0.66      0.61      0.63      1103\n",
      "\n",
      "    accuracy                           0.66      7422\n",
      "   macro avg       0.67      0.66      0.66      7422\n",
      "weighted avg       0.65      0.66      0.65      7422\n",
      "\n"
     ]
    },
    {
     "data": {
      "image/png": "[encoded data removed]",
      "text/plain": [
       "<Figure size 1440x792 with 2 Axes>"
      ]
     },
     "metadata": {},
     "output_type": "display_data"
    }
   ],
   "source": [
    "LogisticReg.prediction_plot_report_generation(x_train, x_test, y_train, y_test, model_file_name='activity_recognition_logistic_reg.sav')"
   ]
  },
  {
   "cell_type": "code",
   "execution_count": null,
   "metadata": {},
   "outputs": [],
   "source": []
  },
  {
   "cell_type": "code",
   "execution_count": null,
   "metadata": {},
   "outputs": [],
   "source": []
  },
  {
   "cell_type": "code",
   "execution_count": null,
   "metadata": {},
   "outputs": [],
   "source": []
  }
 ],
 "metadata": {
  "kernelspec": {
   "display_name": "Python 3 (ipykernel)",
   "language": "python",
   "name": "python3"
  },
  "language_info": {
   "codemirror_mode": {
    "name": "ipython",
    "version": 3
   },
   "file_extension": ".py",
   "mimetype": "text/x-python",
   "name": "python",
   "nbconvert_exporter": "python",
   "pygments_lexer": "ipython3",
   "version": "3.8.5"
  }
 },
 "nbformat": 4,
 "nbformat_minor": 4
}
